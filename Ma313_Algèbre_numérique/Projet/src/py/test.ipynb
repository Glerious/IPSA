{
 "cells": [
  {
   "cell_type": "code",
   "execution_count": 62,
   "metadata": {},
   "outputs": [
    {
     "name": "stdout",
     "output_type": "stream",
     "text": [
      "[1.17520119 1.54308063]\n",
      "[0.54308063 1.17520119 1.        ]\n",
      "[0.17615006 0.54787522 0.99905114 0.99520541]\n",
      "[0.0434357  0.17734744 0.49964494 0.99785375 1.        ]\n",
      "[0.00861541 0.04364989 0.16658287 0.49941024 1.00000291 1.00002051]\n",
      "[0.00142798 0.00864707 0.04165141 0.16654412 0.50000124 1.00001\n",
      " 1.        ]\n",
      "[2.03190202e-04 1.43199404e-03 8.33103450e-03 4.16459109e-02\n",
      " 1.66666974e-01 5.00002778e-01 9.99999995e-01 9.99999952e-01]\n",
      "[2.53233682e-05 2.03641504e-04 1.38859135e-03 8.33034917e-03\n",
      " 4.16667225e-02 1.66667228e-01 4.99999998e-01 9.99999975e-01\n",
      " 1.00000000e+00]\n",
      "[2.80731579e-06 2.53690201e-05 1.98378607e-04 1.38851490e-03\n",
      " 8.33334169e-03 4.16667577e-02 1.66666666e-01 4.99999993e-01\n",
      " 1.00000000e+00 1.00000000e+00]\n",
      "[2.75803416e-07 2.81124086e-06 2.48076060e-05 1.98371445e-04\n",
      " 1.38888315e-03 8.33334559e-03 4.16666684e-02 1.66666665e-01\n",
      " 5.00000000e-01 1.00000000e+00 1.00000000e+00]\n"
     ]
    }
   ],
   "source": [
    "# 1 Approximation de fonctions par des polynômes\n",
    "\n",
    "from numpy import ones, c_, ndarray\n",
    "from numpy.linalg import svd, solve\n",
    "from matplotlib.pyplot import plot, show\n",
    "\n",
    "from math import exp, ceil\n",
    "\n",
    "# intervale entre [-1, 1]\n",
    "\n",
    "def funcIntervale(func, start: float, end: float, split : int) -> list:\n",
    "    rectifer = (end - start) / split\n",
    "    x = [round(start + rectifer * i, 3) for i in range(split + 1)]\n",
    "    return x, [func(i) for i in x]\n",
    "\n",
    "def normalEquation(A: ndarray, b:  ndarray):\n",
    "    return A.T@A, A.T@b\n",
    "\n",
    "for _ in range(1, 11):\n",
    "    x, y = funcIntervale(exp, -1, 1, _)\n",
    "    A = c_[[[j**i for i in range(_, -1, -1)] for j in x]]\n",
    "    A_, b_ = normalEquation(A, y)\n",
    "    x = solve(A_, b_)\n",
    "    print(x)\n",
    "\n",
    "\n"
   ]
  },
  {
   "cell_type": "code",
   "execution_count": null,
   "metadata": {},
   "outputs": [],
   "source": []
  },
  {
   "cell_type": "code",
   "execution_count": 38,
   "metadata": {},
   "outputs": [
    {
     "name": "stdout",
     "output_type": "stream",
     "text": [
      "[[ 0  0]\n",
      " [ 1  1]\n",
      " [ 2  4]\n",
      " [ 3  9]\n",
      " [ 4 16]]\n"
     ]
    }
   ],
   "source": [
    "from numpy import ones, c_\n",
    "\n",
    "m = c_[[i for i in range(5)], [i**2 for i in range(5)]]\n",
    "print(m)    "
   ]
  }
 ],
 "metadata": {
  "kernelspec": {
   "display_name": "Python 3",
   "language": "python",
   "name": "python3"
  },
  "language_info": {
   "codemirror_mode": {
    "name": "ipython",
    "version": 3
   },
   "file_extension": ".py",
   "mimetype": "text/x-python",
   "name": "python",
   "nbconvert_exporter": "python",
   "pygments_lexer": "ipython3",
   "version": "3.11.0"
  }
 },
 "nbformat": 4,
 "nbformat_minor": 2
}
